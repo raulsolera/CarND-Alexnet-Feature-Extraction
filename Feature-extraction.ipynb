{
 "cells": [
  {
   "cell_type": "code",
   "execution_count": 1,
   "metadata": {
    "collapsed": true
   },
   "outputs": [],
   "source": [
    "import numpy as np\n",
    "import pickle\n",
    "import tensorflow as tf\n",
    "from sklearn.model_selection import train_test_split\n",
    "from sklearn.utils import shuffle\n",
    "from alexnet import AlexNet\n",
    "import time"
   ]
  },
  {
   "cell_type": "code",
   "execution_count": 2,
   "metadata": {
    "collapsed": true
   },
   "outputs": [],
   "source": [
    "# PARAMETERS:\n",
    "BATCH_SIZE = 128\n",
    "EPOCHS = 10"
   ]
  },
  {
   "cell_type": "code",
   "execution_count": 3,
   "metadata": {
    "collapsed": true
   },
   "outputs": [],
   "source": [
    "# Load data\n",
    "with open('train.p', mode='rb') as f:\n",
    "    train = pickle.load(f)\n",
    "X_data, y_data = train['features'], train['labels']"
   ]
  },
  {
   "cell_type": "code",
   "execution_count": 4,
   "metadata": {
    "collapsed": true
   },
   "outputs": [],
   "source": [
    "# Split train and validation data\n",
    "X_train, X_valid, y_train, y_valid = train_test_split(X_data, y_data, test_size=0.20, random_state=42)"
   ]
  },
  {
   "cell_type": "code",
   "execution_count": 5,
   "metadata": {
    "collapsed": true
   },
   "outputs": [],
   "source": [
    "# define placeholders\n",
    "features = tf.placeholder(tf.float32, (None, 32, 32, 3))\n",
    "resized = tf.image.resize_images(features, [227, 227])\n",
    "labels = tf.placeholder(tf.int32, (None))\n",
    "one_hot_y = tf.one_hot(labels, 43)"
   ]
  },
  {
   "cell_type": "code",
   "execution_count": 6,
   "metadata": {
    "collapsed": true
   },
   "outputs": [],
   "source": [
    "# pass placeholders to alexet\n",
    "fc7 = AlexNet(resized, feature_extract=True)\n",
    "# NOTE: `tf.stop_gradient` prevents the gradient from flowing backwards\n",
    "# past this point, keeping the weights before and up to `fc7` frozen.\n",
    "# This also makes training faster, less work to do!\n",
    "fc7 = tf.stop_gradient(fc7)"
   ]
  },
  {
   "cell_type": "code",
   "execution_count": 7,
   "metadata": {
    "collapsed": true
   },
   "outputs": [],
   "source": [
    "# Add the final layer for traffic sign classification.\n",
    "nb_classes = 43\n",
    "shape = (fc7.get_shape().as_list()[-1], nb_classes)  # use this shape for the weight matrix\n",
    "fc8W = tf.Variable(tf.truncated_normal(shape = shape, mean = 0, stddev = 0.01))\n",
    "fc8b = tf.Variable(tf.zeros(nb_classes))\n",
    "logits = tf.nn.xw_plus_b(fc7, fc8W, fc8b)"
   ]
  },
  {
   "cell_type": "code",
   "execution_count": 8,
   "metadata": {
    "collapsed": true
   },
   "outputs": [],
   "source": [
    "# Define loss, training, accuracy operations.\n",
    "cross_entropy = tf.nn.softmax_cross_entropy_with_logits(labels=one_hot_y, logits=logits)\n",
    "loss_op = tf.reduce_mean(cross_entropy)\n",
    "optimizer = tf.train.AdamOptimizer()\n",
    "training_op = optimizer.minimize(loss_op, var_list=[fc8W, fc8b])\n",
    "correct_pred = tf.equal(tf.argmax(logits, 1), tf.argmax(one_hot_y, 1))\n",
    "accuracy_op = tf.reduce_mean(tf.cast(correct_pred, tf.float32))"
   ]
  },
  {
   "cell_type": "code",
   "execution_count": 9,
   "metadata": {
    "collapsed": true
   },
   "outputs": [],
   "source": [
    "# Get the reduced data keeping class distribution of original data set\n",
    "def get_sample(X_data, y_data, sample_size):\n",
    "    idx = np.random.choice(range(len(y_data)), sample_size)\n",
    "    return X_data[idx], y_data[idx]\n",
    "n_mini_train = 500\n",
    "n_mini_valid = 100\n",
    "X_mini_train, y_mini_train = get_sample(X_train, y_train, n_mini_train)\n",
    "X_mini_train, y_mini_train = X_train, y_train"
   ]
  },
  {
   "cell_type": "code",
   "execution_count": 10,
   "metadata": {
    "collapsed": true
   },
   "outputs": [],
   "source": [
    "# Function to measure accuracy\n",
    "def eval_on_data(X, y, sess):\n",
    "    total_acc = 0\n",
    "    total_loss = 0\n",
    "    for offset in range(0, X.shape[0], BATCH_SIZE):\n",
    "        end = offset + BATCH_SIZE\n",
    "        X_batch = X[offset:end]\n",
    "        y_batch = y[offset:end]\n",
    "\n",
    "        loss, acc = sess.run([loss_op, accuracy_op], feed_dict={features: X_batch, labels: y_batch})\n",
    "        total_loss += (loss * X_batch.shape[0])\n",
    "        total_acc += (acc * X_batch.shape[0])\n",
    "\n",
    "    return total_loss/X.shape[0], total_acc/X.shape[0]"
   ]
  },
  {
   "cell_type": "code",
   "execution_count": 11,
   "metadata": {},
   "outputs": [
    {
     "name": "stdout",
     "output_type": "stream",
     "text": [
      "Epoch 1\n",
      "Time: 111.784 seconds\n",
      "Validation Loss = 0.509178673923\n",
      "Validation Accuracy = 0.858837031415\n",
      "\n",
      "Epoch 2\n",
      "Time: 107.720 seconds\n",
      "Validation Loss = 0.322441880814\n",
      "Validation Accuracy = 0.909589390477\n",
      "\n",
      "Epoch 3\n",
      "Time: 107.760 seconds\n",
      "Validation Loss = 0.240138415204\n",
      "Validation Accuracy = 0.941341494532\n",
      "\n",
      "Epoch 4\n",
      "Time: 107.745 seconds\n",
      "Validation Loss = 0.191359273373\n",
      "Validation Accuracy = 0.955878602413\n",
      "\n",
      "Epoch 5\n",
      "Time: 107.738 seconds\n",
      "Validation Loss = 0.178006540597\n",
      "Validation Accuracy = 0.955113491471\n",
      "\n",
      "Epoch 6\n",
      "Time: 107.762 seconds\n",
      "Validation Loss = 0.162049114993\n",
      "Validation Accuracy = 0.958684009318\n",
      "\n",
      "Epoch 7\n",
      "Time: 107.725 seconds\n",
      "Validation Loss = 0.133780863908\n",
      "Validation Accuracy = 0.967100229548\n",
      "\n",
      "Epoch 8\n",
      "Time: 107.748 seconds\n",
      "Validation Loss = 0.124181408484\n",
      "Validation Accuracy = 0.96786534049\n",
      "\n",
      "Epoch 9\n",
      "Time: 107.752 seconds\n",
      "Validation Loss = 0.120120625925\n",
      "Validation Accuracy = 0.967355266529\n",
      "\n",
      "Epoch 10\n",
      "Time: 107.748 seconds\n",
      "Validation Loss = 0.117501498762\n",
      "Validation Accuracy = 0.967737821999\n",
      "\n"
     ]
    }
   ],
   "source": [
    "# Train and evaluate the feature extraction model.\n",
    "with tf.Session() as sess:\n",
    "    sess.run(tf.global_variables_initializer())\n",
    "\n",
    "    for i in range(EPOCHS):\n",
    "        # training\n",
    "        X_mini_train, y_mini_train = shuffle(X_mini_train, y_mini_train)\n",
    "        t0 = time.time()\n",
    "        for offset in range(0, X_mini_train.shape[0], BATCH_SIZE):\n",
    "            end = offset + BATCH_SIZE\n",
    "            sess.run(training_op, feed_dict={features: X_mini_train[offset:end], labels: y_mini_train[offset:end]})\n",
    "\n",
    "        val_loss, val_acc = eval_on_data(X_valid, y_valid, sess)\n",
    "        print(\"Epoch\", i+1)\n",
    "        print(\"Time: %.3f seconds\" % (time.time() - t0))\n",
    "        print(\"Validation Loss =\", val_loss)\n",
    "        print(\"Validation Accuracy =\", val_acc)\n",
    "        print(\"\")"
   ]
  }
 ],
 "metadata": {
  "kernelspec": {
   "display_name": "Python 3",
   "language": "python",
   "name": "python3"
  },
  "language_info": {
   "codemirror_mode": {
    "name": "ipython",
    "version": 3
   },
   "file_extension": ".py",
   "mimetype": "text/x-python",
   "name": "python",
   "nbconvert_exporter": "python",
   "pygments_lexer": "ipython3",
   "version": "3.5.2"
  },
  "widgets": {
   "state": {},
   "version": "1.1.2"
  }
 },
 "nbformat": 4,
 "nbformat_minor": 2
}
